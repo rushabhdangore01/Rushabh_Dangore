{
  "nbformat": 4,
  "nbformat_minor": 0,
  "metadata": {
    "colab": {
      "name": "Prediction using supervised ML.Rushabh Dangore.ipynb",
      "provenance": [],
      "collapsed_sections": []
    },
    "kernelspec": {
      "name": "python3",
      "display_name": "Python 3"
    },
    "language_info": {
      "name": "python"
    }
  },
  "cells": [
    {
      "cell_type": "code",
      "metadata": {
        "colab": {
          "base_uri": "https://localhost:8080/",
          "height": 717
        },
        "id": "ZoqtxaniW5Wp",
        "outputId": "4b7b471e-5090-4cdc-f253-187e0508889e"
      },
      "source": [
        "# importing the pakages\n",
        "\n",
        "import pandas as pd\n",
        "import numpy as np\n",
        "import matplotlib.pyplot as plt\n",
        "from sklearn.model_selection import train_test_split\n",
        "from sklearn.linear_model import LinearRegression\n",
        "from sklearn import metrics\n",
        "%matplotlib inline\n",
        "\n",
        "dataset = pd.read_csv('https://raw.githubusercontent.com/AdiPersonalWorks/Random/master/student_scores%20-%20student_scores.csv')\n",
        "dataset.head(10)\n",
        "\n",
        "dataset.describe() #describing our data on a high level(count and distribution)\n",
        "\n",
        "dataset.isnull().sum() # will give the missing values\n",
        "\n",
        "# plotting the 2D graphfor our points\n",
        "\n",
        "dataset.plot(x='Hours', y='Scores', style='o')\n",
        "plt.title('Hours vs Scores')\n",
        "plt.xlabel('Hours Studied')\n",
        "plt.ylabel('Scores achieved')\n",
        "plt.show()\n",
        "\n",
        "# slpitting our data into features (attributes) and labels (what we are predicting)\n",
        "\n",
        "features = dataset.iloc[:, :-1].values\n",
        "labels = dataset.iloc[:, 1].values\n",
        "\n",
        "# dividing our full dataset into training and test dataset(80% and 20% respectively)\n",
        "\n",
        "x_train ,x_test, y_train, y_test = train_test_split(features, labels, test_size=0.2, random_state=0)\n",
        "print(len(labels), len(y_train), len(y_test )) # checking the divide\n",
        "\n",
        "# training our model by fitting on the training data\n",
        "\n",
        "regressor = LinearRegression() #instantiating the model class\n",
        "regressor.fit(x_train, y_train )\n",
        "print('Training done')\n",
        "\n",
        "#prediction on the training data \n",
        "\n",
        "train_pred =regressor.predict(x_train)\n",
        "train_pred\n",
        "\n",
        "# plotting the regression line\n",
        "\n",
        "line = regressor.coef_*features+regressor.intercept_\n",
        "ax = plt.gca()\n",
        "\n",
        "plt.scatter(features ,labels)\n",
        "plt.plot(features, line);\n",
        "plt.show()\n",
        "\n",
        "# since our model is ready, we shall fit it on test data and predict\n",
        "\n",
        "print(x_test)\n",
        "y_pred = regressor.predict(x_test)\n",
        "y_pred\n",
        "\n",
        "# compare actual scores with predicted scores\n",
        "\n",
        "df = pd.DataFrame({'Actual': y_test, 'Predicted': y_pred})\n",
        "df\n",
        "\n",
        "\n",
        "# now it's time to predict score(percentage) of a student who studied for 9.25 hrs\n",
        "\n",
        "hours = 9.25\n",
        "own_pred = regressor.predict([[hours]]) \n",
        "print(f'number of hours studied: {hours}')\n",
        "print(f'scores achieved: {own_pred}')\n",
        "\n",
        "\n",
        "# calculating the performance metrics(MAE) on testing data if it's lower than the MAE of naive data(training data), the model is good\n",
        "\n",
        "print(f'Mean Absolute Error: {metrics.mean_absolute_error(y_test, y_pred)}')"
      ],
      "execution_count": 2,
      "outputs": [
        {
          "output_type": "display_data",
          "data": {
            "image/png": "[encoded data removed]",
            "text/plain": [
              "<Figure size 432x288 with 1 Axes>"
            ]
          },
          "metadata": {
            "needs_background": "light"
          }
        },
        {
          "output_type": "stream",
          "name": "stdout",
          "text": [
            "25 20 5\n",
            "Training done\n"
          ]
        },
        {
          "output_type": "display_data",
          "data": {
            "image/png": "[encoded data removed]",
            "text/plain": [
              "<Figure size 432x288 with 1 Axes>"
            ]
          },
          "metadata": {
            "needs_background": "light"
          }
        },
        {
          "output_type": "stream",
          "name": "stdout",
          "text": [
            "[[1.5]\n",
            " [3.2]\n",
            " [7.4]\n",
            " [2.5]\n",
            " [5.9]]\n",
            "number of hours studied: 9.25\n",
            "scores achieved: [93.69173249]\n",
            "Mean Absolute Error: 4.183859899002982\n"
          ]
        }
      ]
    }
  ]
}